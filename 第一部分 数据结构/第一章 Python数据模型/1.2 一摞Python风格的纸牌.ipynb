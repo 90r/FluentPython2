{
 "cells": [
  {
   "cell_type": "markdown",
   "source": [
    "#### 1.2 一摞Python风格的纸牌\n",
    "> 示例1-1 一摞有序的纸牌"
   ],
   "metadata": {
    "collapsed": false
   },
   "id": "914e4f699bb61a62"
  },
  {
   "cell_type": "code",
   "execution_count": 25,
   "outputs": [
    {
     "name": "stdout",
     "output_type": "stream",
     "text": [
      "52\n",
      "Card(rank='2', suit='spades')\n",
      "Card(rank='A', suit='hearts')\n"
     ]
    }
   ],
   "source": [
    "import collections\n",
    "Card = collections.namedtuple(\"Card\", [\"rank\", \"suit\"])\n",
    "class FrenckDeck():\n",
    "    ranks=[str(i) for i in range(2,11)]+list('JQKA')\n",
    "    suits=\"spades diamonds clubs hearts\".split()\n",
    "    def __init__(self):\n",
    "        self._cards=[Card(rank,suit) for suit in self.suits for rank in self.ranks]\n",
    "        # print(self._cards)\n",
    "    def __len__(self):\n",
    "        return len(self._cards)\n",
    "    def __getitem__(self, item):\n",
    "        return self._cards[item]\n",
    "deck=FrenckDeck()\n",
    "print(len(deck))\n",
    "print(deck[0])\n",
    "print(deck[-1])"
   ],
   "metadata": {
    "collapsed": false,
    "ExecuteTime": {
     "end_time": "2023-10-24T09:52:10.358238800Z",
     "start_time": "2023-10-24T09:52:10.265783500Z"
    }
   },
   "id": "5dcece3dd78a62f9"
  },
  {
   "cell_type": "markdown",
   "source": [
    "如果想随机选一张牌，需要定义一个方法吗？不需要，因为 Python 已经提供了从序列中随机获取一项的函数"
   ],
   "metadata": {
    "collapsed": false
   },
   "id": "aaa728c5c6edfc46"
  },
  {
   "cell_type": "code",
   "execution_count": null,
   "outputs": [
    {
     "data": {
      "text/plain": "Card(rank='K', suit='hearts')"
     },
     "execution_count": 26,
     "metadata": {},
     "output_type": "execute_result"
    }
   ],
   "source": [
    "from random import choice\n",
    "choice(deck)"
   ],
   "metadata": {
    "collapsed": false,
    "is_executing": true,
    "ExecuteTime": {
     "start_time": "2023-10-24T09:52:10.281960500Z"
    }
   },
   "id": "fc12a7788588406d"
  },
  {
   "cell_type": "markdown",
   "source": [
    "实现特殊方法 `__getitem__` 之后，这摞纸牌还可以迭代、反向迭代"
   ],
   "metadata": {
    "collapsed": false
   },
   "id": "59406a48bac529ea"
  },
  {
   "cell_type": "code",
   "execution_count": null,
   "outputs": [],
   "source": [
    "for card in deck:\n",
    "    print(card)\n",
    "print('-----reverse-----')\n",
    "for card in reversed(deck):\n",
    "    print(card)"
   ],
   "metadata": {
    "collapsed": false,
    "is_executing": true
   },
   "id": "5d82996d86e8cc68"
  },
  {
   "cell_type": "markdown",
   "source": [
    "迭代往往是隐式的。如果一个容器没有实现 `__contains__` 方法，那么 **in 运算符就会做一次顺序扫描**。本例就是这样，FrenchDeck 类支持 in 运算符，因为该类可迭代。下面来试试。"
   ],
   "metadata": {
    "collapsed": false
   },
   "id": "1b6e4e527b38c654"
  },
  {
   "cell_type": "code",
   "execution_count": null,
   "outputs": [
    {
     "name": "stdout",
     "output_type": "stream",
     "text": [
      "True\n",
      "False\n"
     ]
    }
   ],
   "source": [
    "print(Card('Q','hearts') in deck)\n",
    "print(Card('7','beasts') in deck)"
   ],
   "metadata": {
    "collapsed": false,
    "is_executing": true,
    "ExecuteTime": {
     "start_time": "2023-10-24T09:52:10.314850900Z"
    }
   },
   "id": "711e19f1c3af9f75"
  },
  {
   "cell_type": "markdown",
   "source": [
    "那么排序呢？按照常规，牌面大小按点数（A 最大），以及黑桃（最大）、红心、方块、梅花（最小）的顺序排列。下面按照这个规则定义扑克牌排序函数，梅花 2 返回 0，黑桃 A 返回 51。"
   ],
   "metadata": {
    "collapsed": false
   },
   "id": "69c33a06b953f846"
  },
  {
   "cell_type": "code",
   "execution_count": 29,
   "outputs": [],
   "source": [
    "suit_values=dict(spades=3, hearts=2, diamonds=1, clubs=0)\n",
    "def spades_high(card):\n",
    "    rank_value=FrenckDeck.ranks.index(card.rank)\n",
    "    return rank_value * len(suit_values) + suit_values[card.suit]"
   ],
   "metadata": {
    "collapsed": false,
    "ExecuteTime": {
     "end_time": "2023-10-24T09:52:10.379170400Z",
     "start_time": "2023-10-24T09:52:10.329803600Z"
    }
   },
   "id": "46d8e2714cd7b11d"
  },
  {
   "cell_type": "markdown",
   "source": [
    "定义好 spades_high 函数后，现在按照牌面大小升序列出一副牌。"
   ],
   "metadata": {
    "collapsed": false
   },
   "id": "833a77bded824cec"
  },
  {
   "cell_type": "code",
   "execution_count": 30,
   "outputs": [
    {
     "name": "stdout",
     "output_type": "stream",
     "text": [
      "Card(rank='2', suit='clubs')\n",
      "Card(rank='2', suit='diamonds')\n",
      "Card(rank='2', suit='hearts')\n",
      "Card(rank='2', suit='spades')\n",
      "Card(rank='3', suit='clubs')\n",
      "Card(rank='3', suit='diamonds')\n",
      "Card(rank='3', suit='hearts')\n",
      "Card(rank='3', suit='spades')\n",
      "Card(rank='4', suit='clubs')\n",
      "Card(rank='4', suit='diamonds')\n",
      "Card(rank='4', suit='hearts')\n",
      "Card(rank='4', suit='spades')\n",
      "Card(rank='5', suit='clubs')\n",
      "Card(rank='5', suit='diamonds')\n",
      "Card(rank='5', suit='hearts')\n",
      "Card(rank='5', suit='spades')\n",
      "Card(rank='6', suit='clubs')\n",
      "Card(rank='6', suit='diamonds')\n",
      "Card(rank='6', suit='hearts')\n",
      "Card(rank='6', suit='spades')\n",
      "Card(rank='7', suit='clubs')\n",
      "Card(rank='7', suit='diamonds')\n",
      "Card(rank='7', suit='hearts')\n",
      "Card(rank='7', suit='spades')\n",
      "Card(rank='8', suit='clubs')\n",
      "Card(rank='8', suit='diamonds')\n",
      "Card(rank='8', suit='hearts')\n",
      "Card(rank='8', suit='spades')\n",
      "Card(rank='9', suit='clubs')\n",
      "Card(rank='9', suit='diamonds')\n",
      "Card(rank='9', suit='hearts')\n",
      "Card(rank='9', suit='spades')\n",
      "Card(rank='10', suit='clubs')\n",
      "Card(rank='10', suit='diamonds')\n",
      "Card(rank='10', suit='hearts')\n",
      "Card(rank='10', suit='spades')\n",
      "Card(rank='J', suit='clubs')\n",
      "Card(rank='J', suit='diamonds')\n",
      "Card(rank='J', suit='hearts')\n",
      "Card(rank='J', suit='spades')\n",
      "Card(rank='Q', suit='clubs')\n",
      "Card(rank='Q', suit='diamonds')\n",
      "Card(rank='Q', suit='hearts')\n",
      "Card(rank='Q', suit='spades')\n",
      "Card(rank='K', suit='clubs')\n",
      "Card(rank='K', suit='diamonds')\n",
      "Card(rank='K', suit='hearts')\n",
      "Card(rank='K', suit='spades')\n",
      "Card(rank='A', suit='clubs')\n",
      "Card(rank='A', suit='diamonds')\n",
      "Card(rank='A', suit='hearts')\n",
      "Card(rank='A', suit='spades')\n"
     ]
    }
   ],
   "source": [
    "for card in sorted(deck,key=spades_high):\n",
    "    print(card)"
   ],
   "metadata": {
    "collapsed": false,
    "ExecuteTime": {
     "end_time": "2023-10-24T09:52:10.379170400Z",
     "start_time": "2023-10-24T09:52:10.344277600Z"
    }
   },
   "id": "e5bafbd2116a926"
  },
  {
   "cell_type": "markdown",
   "source": [
    "实现`__len__` 和 `__getitem__` 两个特殊方法后，FrenchDeck 的行为就像标准的 Python 序列一样，受益于语言核心特性（例如迭代和切片）和标准库。`__len__` 和 `__getitem__` 的实现利用组合模式，把所有工作委托给一个 list 对象，即 self._cards。"
   ],
   "metadata": {
    "collapsed": false
   },
   "id": "c77f275ed9bffb6"
  },
  {
   "cell_type": "code",
   "execution_count": null,
   "outputs": [],
   "source": [],
   "metadata": {
    "collapsed": false
   },
   "id": "151bde34ab9c437c"
  }
 ],
 "metadata": {
  "kernelspec": {
   "display_name": "Python 3",
   "language": "python",
   "name": "python3"
  },
  "language_info": {
   "codemirror_mode": {
    "name": "ipython",
    "version": 2
   },
   "file_extension": ".py",
   "mimetype": "text/x-python",
   "name": "python",
   "nbconvert_exporter": "python",
   "pygments_lexer": "ipython2",
   "version": "2.7.6"
  }
 },
 "nbformat": 4,
 "nbformat_minor": 5
}
