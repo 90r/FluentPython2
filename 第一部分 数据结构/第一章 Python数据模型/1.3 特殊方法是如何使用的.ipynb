{
 "cells": [
  {
   "cell_type": "markdown",
   "source": [
    "#### 1.3 特殊方法是如何使用的\n",
    "首先要明确一点，特殊方法供Python解释器调用，而不是程序员自己调用。也就是说。没有`my_object.__len__()`这种写法，正确的写法应该是`len(my_object)`。如果my_object是用户定义的类的实例，Python将调用你实现的`__len__`方法。\n",
    "\n",
    "然而，处理内置类型是，例如list、str、bytearray、或Numpy数据等扩展，Python解释器会抄个近路。Python中可变长度容器的底层C语言实现中有一个结构体，名为*PyVarObject*。在这个结构体中，ob_size字段保存着容器中的项数。如果my_object是某个内置类型的实例，则len(my_object)直接读取ob_size字段的值，这要比调用方法快得多。\n",
    "\n",
    "很多时候，特殊方法是隐式调用的。例如，for i in x: 语句其实在背后调用iter(x)，接着又用`x__iter__()`或`x__getitem__()`。在frenchDeck示例中，调用的是后者。我们在编写代码时一般不直接调用这些特殊方法，除非设计大量元编程。即便如此，大部分时间也是实现特殊方法，很少显示调用。唯一例外的是`__init__`方法，为自定义类实现`__init__`方法时经常直接调用它调取超类的初始化方法\n",
    "\n",
    "如果需要调用特殊方法，则最好调用相应的内置函数，例如len、iter、str等。这些内置函数不仅调用对应的特殊方法，通常还会提供额外服务，而且对于内置类型来说，速度比调用方法更快。"
   ],
   "metadata": {
    "collapsed": false
   },
   "id": "56322a6ebebaa5eb"
  },
  {
   "cell_type": "markdown",
   "source": [
    "##### 1.3.1　模拟数值类型\n",
    "接下来将实现一个二维向量类，即数学和物理中使用的欧几里得向量\n",
    "![二维向量加法图示：Vector(2, 4) + Vector(2, 1) =Vector(4, 5)](./img/vector.png)\n",
    "二维向量加法图示：Vector(2, 4) + Vector(2, 1) =Vector(4, 5)\n",
    ">示例 1-2　一个简单的二维向量类"
   ],
   "metadata": {
    "collapsed": false
   },
   "id": "f2a02a6d412f8b4b"
  },
  {
   "cell_type": "code",
   "execution_count": 2,
   "outputs": [
    {
     "name": "stdout",
     "output_type": "stream",
     "text": [
      "Vector(4,5)\n"
     ]
    }
   ],
   "source": [
    "import math\n",
    "class Vector:\n",
    "    def __init__(self,x,y):\n",
    "        self.x = x\n",
    "        self.y = y\n",
    "\n",
    "    def __repr__(self):\n",
    "        #!r 是一个转换说明符（conversion specifier），用于指定将表达式的值转换为其 repr() 形式（即表示形式）。\n",
    "        return f\"Vector({self.x!r},{self.y!r})\"\n",
    "\n",
    "    def __abs__(self):\n",
    "        #hypot 是一个数学函数，用于计算两个数的欧几里德距离或直角三角形的斜边长度。\n",
    "        return math.hypot(self.x,self.y)\n",
    "\n",
    "    def __bool__(self):\n",
    "        return bool(abs(self))\n",
    "\n",
    "    def __add__(self, other):\n",
    "        x = self.x + other.x\n",
    "        y = self.y + other.y\n",
    "        return Vector(x,y)\n",
    "\n",
    "    def __mul__(self, scalar):\n",
    "        return Vector(self.x * scalar, self.y * scalar)\n",
    "v1=Vector(2,4)\n",
    "v2=Vector(2,1)\n",
    "print(v1+v2)"
   ],
   "metadata": {
    "collapsed": false,
    "ExecuteTime": {
     "end_time": "2023-10-24T10:18:34.237629100Z",
     "start_time": "2023-10-24T10:18:34.222670900Z"
    }
   },
   "id": "d11dc5df56b6b502"
  },
  {
   "cell_type": "code",
   "execution_count": null,
   "outputs": [],
   "source": [],
   "metadata": {
    "collapsed": false
   },
   "id": "39dfe9a481ba8124"
  }
 ],
 "metadata": {
  "kernelspec": {
   "display_name": "Python 3",
   "language": "python",
   "name": "python3"
  },
  "language_info": {
   "codemirror_mode": {
    "name": "ipython",
    "version": 2
   },
   "file_extension": ".py",
   "mimetype": "text/x-python",
   "name": "python",
   "nbconvert_exporter": "python",
   "pygments_lexer": "ipython2",
   "version": "2.7.6"
  }
 },
 "nbformat": 4,
 "nbformat_minor": 5
}
